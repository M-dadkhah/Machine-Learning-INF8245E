{
 "cells": [
  {
   "cell_type": "markdown",
   "metadata": {
    "id": "tSf-BfKFTrTB"
   },
   "source": [
    "# print data!"
   ]
  },
  {
   "cell_type": "code",
   "execution_count": null,
   "metadata": {
    "colab": {
     "base_uri": "https://localhost:8080/",
     "height": 51
    },
    "executionInfo": {
     "elapsed": 75705,
     "status": "ok",
     "timestamp": 1636908608065,
     "user": {
      "displayName": "Mostafa Dadkhah",
      "photoUrl": "https://lh3.googleusercontent.com/a-/AOh14GhgPtQ3b8iJs2Zbu6qUYCqnxwLyg9t7-xBf-VAFfpA=s64",
      "userId": "02007001402843535764"
     },
     "user_tz": 300
    },
    "id": "DyXo2EBwV5ZG",
    "outputId": "9a36c2dc-93d7-4b50-936d-4ee035413c5d"
   },
   "outputs": [
    {
     "name": "stdout",
     "output_type": "stream",
     "text": [
      "Drive already mounted at /content/drive; to attempt to forcibly remount, call drive.mount(\"/content/drive\", force_remount=True).\n"
     ]
    },
    {
     "data": {
      "application/javascript": [
       "IPython.notebook.set_autosave_interval(60000)"
      ]
     },
     "metadata": {},
     "output_type": "display_data"
    },
    {
     "name": "stdout",
     "output_type": "stream",
     "text": [
      "Autosaving every 60 seconds\n"
     ]
    }
   ],
   "source": [
    "from sklearn.model_selection import PredefinedSplit\n",
    "from sklearn.model_selection import StratifiedKFold\n",
    "from sklearn.model_selection import GridSearchCV\n",
    "from sklearn.naive_bayes import GaussianNB\n",
    "from sklearn.metrics import classification_report\n",
    "from sklearn.metrics import f1_score\n",
    "from sklearn.tree import DecisionTreeClassifier\n",
    "from sklearn.linear_model import LogisticRegression\n",
    "from sklearn.svm import LinearSVC\n",
    "import numpy as np\n",
    "import random\n",
    "import csv\n",
    "import string\n",
    "from google.colab import drive\n",
    "drive.mount('/content/drive')\n",
    "\n",
    "%autosave 60\n",
    "doPrint=True\n",
    "np.random.seed(10)\n",
    "random.seed(10)\n",
    "\n",
    "Sets = [\"Train\", \"Test\", \"Valid\"]\n",
    "Data = {s: [] for s in Sets}\n",
    "removePunc = str.maketrans(\"\",\"\", string.punctuation)\n",
    "for s in Sets:\n",
    "    with open(f'medical_dataset/{s.lower()}.csv', encoding=\"utf8\") as csv_file:\n",
    "        csv_reader = csv.DictReader(csv_file)\n",
    "        \n",
    "        for row in csv_reader:\n",
    "            T = row[\"text\"].translate(removePunc).lower().split()\n",
    "            Data[s].append({\"T\": T,\n",
    "                            \"L\": int(row[\"label\"]),\n",
    "                            \"V\": []})            \n",
    "            \n",
    "Ndic = 10000\n",
    "All=[]\n",
    "for d in Data[\"Train\"]:\n",
    "    for w in d[\"T\"]:\n",
    "        All.append(w)\n",
    "V,C = np.unique(All,return_counts=True)\n",
    "Arg = np.argsort(C)\n",
    "Dict = list(V[Arg[::-1][:Ndic]])\n",
    "Count= C[Arg][::-1][:Ndic]\n",
    "np.savetxt(\"medical_text-vocab.txt\", np.column_stack((Dict,range(1, Ndic+1), Count)),delimiter=\"\\t\",header=\"Dict, Frequency, Count\", fmt=\"%1s\")\n",
    "\n",
    "for s in Sets:\n",
    "    with open(f\"medical_text-{s.lower()}.txt\", mode='w', newline='') as Writer:\n",
    "        if doPrint:\n",
    "            W = csv.writer(Writer)\n",
    "        for d in Data[s]:\n",
    "            d[\"V\"] = np.zeros((Ndic), dtype=np.int8)\n",
    "            NW = []\n",
    "            for t in d[\"T\"]:\n",
    "                try:\n",
    "                    nw = Dict.index(t)\n",
    "                    d[\"V\"][nw] = d[\"V\"][nw]+1\n",
    "                    NW.append(nw)\n",
    "                except:\n",
    "                    pass\n",
    "            if doPrint:\n",
    "                Writer.write(\" \".join(str(np.array(NW)+1)[1:-1].split())+'\\t'+str(d[\"L\"])+'\\n')\n",
    "\n",
    "            \n",
    "def CVdata(gs):\n",
    "    means, stds, params = gs.cv_results_['mean_test_score'], gs.cv_results_['std_test_score'], gs.cv_results_['params']\n",
    "    for m, s, p in zip(means, stds, params):\n",
    "        print(f\"{m:.3f} (+/-{s*2:.3f}) for {p}\")\n",
    "    print()    \n"
   ]
  },
  {
   "cell_type": "code",
   "execution_count": null,
   "metadata": {
    "id": "W0pKgSgOf_5-"
   },
   "outputs": [],
   "source": [
    "y_t = np.array([d[\"L\"] for d in Data[\"Train\"]])-1\n",
    "X_t = [d[\"V\"] for d in Data[\"Train\"]]\n",
    "X_t = X_t/np.sum(X_t, axis=1).reshape((len(y_t),1))\n",
    "\n",
    "y_v = np.array([d[\"L\"] for d in Data[\"Valid\"]])-1\n",
    "X_v = [d[\"V\"] for d in Data[\"Valid\"]]\n",
    "X_v = X_v/np.sum(X_v, axis=1).reshape((len(y_v),1))\n",
    "\n",
    "\n",
    "X_train = np.append(X_t, X_v, axis=0)\n",
    "y_train = np.append(y_t, y_v, axis=0)\n",
    "\n",
    "y_test =  np.array([d[\"L\"] for d in Data[\"Test\"]])-1\n",
    "X_test = [d[\"V\"] for d in Data[\"Test\"]]\n",
    "X_test = X_test/np.sum(X_test, axis=1).reshape((len(y_test),1))\n",
    "\n",
    "\n",
    "# tf = -np.ones_like(y_t)\n",
    "# tf = np.append(tf, np.zeros_like(y_v), axis=0)\n",
    "\n",
    "# cv = PredefinedSplit(tf)\n",
    "cv = StratifiedKFold(n_splits=5, shuffle=True, random_state=0)\n",
    "scoring = 'f1_macro'"
   ]
  },
  {
   "cell_type": "code",
   "execution_count": null,
   "metadata": {
    "colab": {
     "base_uri": "https://localhost:8080/"
    },
    "executionInfo": {
     "elapsed": 9,
     "status": "ok",
     "timestamp": 1636881894190,
     "user": {
      "displayName": "Mostafa Dadkhah",
      "photoUrl": "https://lh3.googleusercontent.com/a-/AOh14GhgPtQ3b8iJs2Zbu6qUYCqnxwLyg9t7-xBf-VAFfpA=s64",
      "userId": "02007001402843535764"
     },
     "user_tz": 300
    },
    "id": "xMsSbktbfcau",
    "outputId": "9d090dfa-099e-4325-e1e4-27afface223e"
   },
   "outputs": [
    {
     "name": "stdout",
     "output_type": "stream",
     "text": [
      "Accuracy in random approach: 25.59%\n",
      "Accuracy in most frequent approach (Class 1): 14.18%\n"
     ]
    }
   ],
   "source": [
    "y_pred_random = np.random.randint(0,4,size=(len(y_test)))\n",
    "print(f\"Accuracy in random approach: {f1_score(y_test,y_pred_random, average='macro')*100:.2f}%\")\n",
    "\n",
    "U = np.column_stack(np.unique([d[\"L\"] for d in Data[\"Train\"] ], return_counts=True))\n",
    "y_pred_mostFreq = [max(U, key=lambda x:x[1])[0]] * len(y_test)\n",
    "print(f\"Accuracy in most frequent approach (Class {y_pred_mostFreq[0]}): {f1_score(y_test,np.array(y_pred_mostFreq)-1, average='macro')*100:.2f}%\")"
   ]
  },
  {
   "cell_type": "code",
   "execution_count": null,
   "metadata": {
    "colab": {
     "base_uri": "https://localhost:8080/"
    },
    "executionInfo": {
     "elapsed": 49473,
     "status": "ok",
     "timestamp": 1636881943659,
     "user": {
      "displayName": "Mostafa Dadkhah",
      "photoUrl": "https://lh3.googleusercontent.com/a-/AOh14GhgPtQ3b8iJs2Zbu6qUYCqnxwLyg9t7-xBf-VAFfpA=s64",
      "userId": "02007001402843535764"
     },
     "user_tz": 300
    },
    "id": "aitPhG2-fcay",
    "outputId": "fb8c1589-c377-4f66-8a29-2338b39d3977"
   },
   "outputs": [
    {
     "name": "stdout",
     "output_type": "stream",
     "text": [
      "Best hyper-parameters: {'var_smoothing': 0.0014677992676220691} with Best f1_macro of 44.27% in cross-validation.\n",
      "\n",
      "f1-macro on Train set: 54.26%\n",
      "f1-macro on Valid set: 53.18%\n",
      "f1-macro on Test  set: 44.13%\n",
      "All Parameters:\n",
      "[{'var_smoothing': array([0.001     , 0.00113646, 0.00129155, 0.0014678 , 0.0016681 ,\n",
      "       0.00189574, 0.00215443, 0.00244844, 0.00278256, 0.00316228])}]\n"
     ]
    }
   ],
   "source": [
    "# a\n",
    "Params_GNB = [\n",
    "    {\n",
    "        'var_smoothing': 10**np.linspace(-3,-2.5,10)\n",
    "    }\n",
    "]\n",
    "gsGNB = GridSearchCV(GaussianNB(), Params_GNB, scoring=scoring, cv=cv, n_jobs=-1, refit=True)\n",
    "gsGNB.fit(X_train, y_train)\n",
    "\n",
    "print(f\"Best hyper-parameters: {gsGNB.best_params_} with Best {scoring} of {gsGNB.best_score_*100:.2f}% in cross-validation.\\n\")\n",
    "print(f'f1-macro on Train set: {f1_score(y_t, gsGNB.predict(X_t), average=\"macro\")*100:.2f}%')\n",
    "print(f'f1-macro on Valid set: {f1_score(y_v, gsGNB.predict(X_v), average=\"macro\")*100:.2f}%')\n",
    "print(f'f1-macro on Test  set: {f1_score(y_test, gsGNB.predict(X_test), average=\"macro\")*100:.2f}%')\n",
    "\n",
    "print('All Parameters:')\n",
    "print(Params_GNB)\n",
    "# CVdata(gsGNB)"
   ]
  },
  {
   "cell_type": "code",
   "execution_count": null,
   "metadata": {
    "colab": {
     "base_uri": "https://localhost:8080/"
    },
    "executionInfo": {
     "elapsed": 1095419,
     "status": "ok",
     "timestamp": 1636883039074,
     "user": {
      "displayName": "Mostafa Dadkhah",
      "photoUrl": "https://lh3.googleusercontent.com/a-/AOh14GhgPtQ3b8iJs2Zbu6qUYCqnxwLyg9t7-xBf-VAFfpA=s64",
      "userId": "02007001402843535764"
     },
     "user_tz": 300
    },
    "id": "rZWpVNxJfca0",
    "outputId": "fbb64f70-0a3c-4bdc-884e-945e89599813"
   },
   "outputs": [
    {
     "name": "stdout",
     "output_type": "stream",
     "text": [
      "Fitting 5 folds for each of 48 candidates, totalling 240 fits\n"
     ]
    },
    {
     "name": "stderr",
     "output_type": "stream",
     "text": [
      "[Parallel(n_jobs=-1)]: Using backend LokyBackend with 2 concurrent workers.\n",
      "[Parallel(n_jobs=-1)]: Done  37 tasks      | elapsed:  2.5min\n",
      "[Parallel(n_jobs=-1)]: Done 158 tasks      | elapsed: 11.4min\n",
      "[Parallel(n_jobs=-1)]: Done 240 out of 240 | elapsed: 18.1min finished\n"
     ]
    },
    {
     "name": "stdout",
     "output_type": "stream",
     "text": [
      "Best hyper-parameters: {'max_depth': 20, 'max_leaf_nodes': 50, 'min_samples_leaf': 2, 'random_state': 0} with Best f1_macro of 62.21% in cross-validation.\n",
      "\n",
      "f1-macro on Train set: 67.35%\n",
      "f1-macro on Valid set: 66.88%\n",
      "f1-macro on Test  set: 64.47%\n",
      "All Parameters:\n",
      "[{'min_samples_leaf': [2, 5, 10, 50], 'max_leaf_nodes': [35, 50, 75], 'max_depth': [10, 15, 20, 25], 'random_state': [0]}]\n"
     ]
    }
   ],
   "source": [
    "# a\n",
    "params_DTC_noPruning = [\n",
    "    {\n",
    "        'min_samples_leaf': [2, 5, 10, 50],  # 81\n",
    "        'max_leaf_nodes': [35, 50, 75],  # 50\n",
    "        'max_depth': [10, 15, 20, 25],  # 10\n",
    "        'random_state': [0]\n",
    "    }\n",
    "\n",
    "]\n",
    "gsDTC_noPruning = GridSearchCV(DecisionTreeClassifier(), params_DTC_noPruning, scoring=scoring, cv=cv, n_jobs=-1, refit=True, verbose=2)\n",
    "gsDTC_noPruning.fit(X_train, y_train)\n",
    "\n",
    "print(f\"Best hyper-parameters: {gsDTC_noPruning.best_params_} with Best {scoring} of {gsDTC_noPruning.best_score_*100:.2f}% in cross-validation.\\n\")\n",
    "print(f'f1-macro on Train set: {f1_score(y_t, gsDTC_noPruning.predict(X_t), average=\"macro\")*100:.2f}%')\n",
    "print(f'f1-macro on Valid set: {f1_score(y_v, gsDTC_noPruning.predict(X_v), average=\"macro\")*100:.2f}%')\n",
    "print(f'f1-macro on Test  set: {f1_score(y_test, gsDTC_noPruning.predict(X_test), average=\"macro\")*100:.2f}%')\n",
    "\n",
    "print('All Parameters:')\n",
    "print(params_DTC_noPruning)\n",
    "# CVdata(gsDTC_noPruning)"
   ]
  },
  {
   "cell_type": "code",
   "execution_count": null,
   "metadata": {
    "colab": {
     "base_uri": "https://localhost:8080/"
    },
    "executionInfo": {
     "elapsed": 616332,
     "status": "ok",
     "timestamp": 1636883655401,
     "user": {
      "displayName": "Mostafa Dadkhah",
      "photoUrl": "https://lh3.googleusercontent.com/a-/AOh14GhgPtQ3b8iJs2Zbu6qUYCqnxwLyg9t7-xBf-VAFfpA=s64",
      "userId": "02007001402843535764"
     },
     "user_tz": 300
    },
    "id": "ZJFgCZeQfca2",
    "outputId": "942d404a-6265-45ba-d181-19b217b1c40e"
   },
   "outputs": [
    {
     "name": "stdout",
     "output_type": "stream",
     "text": [
      "Best hyper-parameters: {'ccp_alpha': 0.003981071705534973, 'criterion': 'entropy', 'random_state': 0} with Best f1_macro of 59.57% in cross-validation.\n",
      "\n",
      "f1-macro on Train set: 65.49%\n",
      "f1-macro on Valid set: 62.29%\n",
      "f1-macro on Test  set: 63.59%\n",
      "All Parameters:\n",
      "[{'criterion': ['entropy'], 'random_state': [0], 'ccp_alpha': array([1.00000000e-04, 1.58489319e-04, 2.51188643e-04, 3.98107171e-04,\n",
      "       6.30957344e-04, 1.00000000e-03, 1.58489319e-03, 2.51188643e-03,\n",
      "       3.98107171e-03, 6.30957344e-03, 1.00000000e-02, 1.58489319e-02,\n",
      "       2.51188643e-02, 3.98107171e-02, 6.30957344e-02, 1.00000000e-01,\n",
      "       1.58489319e-01, 2.51188643e-01, 3.98107171e-01, 6.30957344e-01,\n",
      "       1.00000000e+00])}]\n"
     ]
    }
   ],
   "source": [
    "params_DTC_postPruning = [\n",
    "    {\n",
    "        'criterion': ['entropy'], \n",
    "        'random_state': [0],\n",
    "        'ccp_alpha': 10**np.linspace(-4,0,21)\n",
    "    }\n",
    "]\n",
    "gsDTC_postPruning = GridSearchCV(DecisionTreeClassifier(), params_DTC_postPruning, scoring=scoring, cv=cv, n_jobs=-1, refit=True)\n",
    "gsDTC_postPruning.fit(X_train, y_train)\n",
    "print(f\"Best hyper-parameters: {gsDTC_postPruning.best_params_} with Best {scoring} of {gsDTC_postPruning.best_score_*100:.2f}% in cross-validation.\\n\")\n",
    "print(f'f1-macro on Train set: {f1_score(y_t, gsDTC_postPruning.predict(X_t), average=\"macro\")*100:.2f}%')\n",
    "print(f'f1-macro on Valid set: {f1_score(y_v, gsDTC_postPruning.predict(X_v), average=\"macro\")*100:.2f}%')\n",
    "print(f'f1-macro on Test  set: {f1_score(y_test, gsDTC_postPruning.predict(X_test), average=\"macro\")*100:.2f}%')\n",
    "\n",
    "print('All Parameters:')\n",
    "print(params_DTC_postPruning)\n",
    "# CVdata(gsDTC_postPruning)"
   ]
  },
  {
   "cell_type": "code",
   "execution_count": null,
   "metadata": {
    "colab": {
     "base_uri": "https://localhost:8080/"
    },
    "executionInfo": {
     "elapsed": 7669996,
     "status": "ok",
     "timestamp": 1636917170984,
     "user": {
      "displayName": "Mostafa Dadkhah",
      "photoUrl": "https://lh3.googleusercontent.com/a-/AOh14GhgPtQ3b8iJs2Zbu6qUYCqnxwLyg9t7-xBf-VAFfpA=s64",
      "userId": "02007001402843535764"
     },
     "user_tz": 300
    },
    "id": "pVx4PCjvfca3",
    "outputId": "1378586d-885d-4a0d-e210-aafe44d6245c"
   },
   "outputs": [
    {
     "name": "stdout",
     "output_type": "stream",
     "text": [
      "Fitting 8 folds for each of 10 candidates, totalling 80 fits\n"
     ]
    },
    {
     "name": "stderr",
     "output_type": "stream",
     "text": [
      "[Parallel(n_jobs=-1)]: Using backend LokyBackend with 2 concurrent workers.\n",
      "[Parallel(n_jobs=-1)]: Done  37 tasks      | elapsed: 83.0min\n",
      "[Parallel(n_jobs=-1)]: Done  80 out of  80 | elapsed: 124.9min finished\n",
      "/usr/local/lib/python3.7/dist-packages/sklearn/linear_model/_sag.py:330: ConvergenceWarning: The max_iter was reached which means the coef_ did not converge\n",
      "  \"the coef_ did not converge\", ConvergenceWarning)\n"
     ]
    },
    {
     "name": "stdout",
     "output_type": "stream",
     "text": [
      "Best hyper-parameters: {'C': 25, 'penalty': 'l1', 'random_state': 0, 'solver': 'saga'} with Best f1_macro of 48.84% in cross-validation.\n",
      "\n",
      "f1-macro on Train set: 55.43%\n",
      "f1-macro on Valid set: 52.82%\n",
      "f1-macro on Test  set: 47.26%\n",
      "All Parameters:\n",
      "[{'solver': ['saga'], 'penalty': ['l1'], 'C': [1, 5, 10, 25, 50], 'random_state': [0]}, {'solver': ['saga'], 'penalty': ['l2'], 'C': [1, 5, 10, 25, 50], 'random_state': [0]}]\n"
     ]
    }
   ],
   "source": [
    "cv2 = StratifiedKFold(n_splits=8, shuffle=True, random_state=0)\n",
    "params_LR = [\n",
    "    {\n",
    "        \"solver\": ['saga'],\n",
    "        \"penalty\":['l1'],\n",
    "        \"C\": [1, 5, 10, 25, 50],\n",
    "        \"random_state\": [0]\n",
    "     },\n",
    "     {\n",
    "        \"solver\": ['saga'],\n",
    "        \"penalty\":['l2'],\n",
    "        \"C\": [1, 5, 10, 25, 50],\n",
    "        \"random_state\": [0]\n",
    "     }\n",
    "]\n",
    "gsLR = GridSearchCV(LogisticRegression(), params_LR, scoring=scoring, cv=cv2,n_jobs=-1, refit=True, verbose= 2)\n",
    "gsLR.fit(X_train, y_train)\n",
    "print(f\"Best hyper-parameters: {gsLR.best_params_} with Best {scoring} of {gsLR.best_score_*100:.2f}% in cross-validation.\\n\")\n",
    "print(f'f1-macro on Train set: {f1_score(y_t, gsLR.predict(X_t), average=\"macro\")*100:.2f}%')\n",
    "print(f'f1-macro on Valid set: {f1_score(y_v, gsLR.predict(X_v), average=\"macro\")*100:.2f}%')\n",
    "print(f'f1-macro on Test  set: {f1_score(y_test, gsLR.predict(X_test), average=\"macro\")*100:.2f}%')\n",
    "\n",
    "print('All Parameters:')\n",
    "print(params_LR)\n",
    "# CVdata(gsLR)"
   ]
  },
  {
   "cell_type": "code",
   "execution_count": null,
   "metadata": {
    "colab": {
     "base_uri": "https://localhost:8080/"
    },
    "executionInfo": {
     "elapsed": 278093,
     "status": "ok",
     "timestamp": 1636899612147,
     "user": {
      "displayName": "Mostafa Dadkhah",
      "photoUrl": "https://lh3.googleusercontent.com/a-/AOh14GhgPtQ3b8iJs2Zbu6qUYCqnxwLyg9t7-xBf-VAFfpA=s64",
      "userId": "02007001402843535764"
     },
     "user_tz": 300
    },
    "id": "Kh0TpQ1Ufca5",
    "outputId": "8eb087de-3746-4e96-839f-f288ca93f6fa"
   },
   "outputs": [
    {
     "name": "stdout",
     "output_type": "stream",
     "text": [
      "Fitting 5 folds for each of 21 candidates, totalling 105 fits\n"
     ]
    },
    {
     "name": "stderr",
     "output_type": "stream",
     "text": [
      "[Parallel(n_jobs=-1)]: Using backend LokyBackend with 2 concurrent workers.\n",
      "[Parallel(n_jobs=-1)]: Done  37 tasks      | elapsed:  1.6min\n",
      "[Parallel(n_jobs=-1)]: Done 105 out of 105 | elapsed:  4.5min finished\n"
     ]
    },
    {
     "name": "stdout",
     "output_type": "stream",
     "text": [
      "Best hyper-parameters: {'C': 20, 'loss': 'squared_hinge', 'penalty': 'l2', 'random_state': 0} with Best f1_macro of 44.77% in cross-validation.\n",
      "\n",
      "f1-macro on Train set: 59.06%\n",
      "f1-macro on Valid set: 57.21%\n",
      "f1-macro on Test  set: 40.24%\n",
      "All Parameters:\n",
      "[{'penalty': ['l2'], 'loss': ['hinge', 'squared_hinge'], 'C': [5, 10, 20, 35, 50, 75, 120], 'random_state': [0]}, {'penalty': ['l1'], 'loss': ['squared_hinge'], 'C': [5, 10, 20, 35, 50, 75, 120], 'random_state': [0]}]\n"
     ]
    }
   ],
   "source": [
    "# a\n",
    "from sklearn.svm import LinearSVC\n",
    "params_SVC = [\n",
    "     {\n",
    "        'penalty': ['l2'],\n",
    "        'loss': ['hinge', 'squared_hinge'],\n",
    "        \"C\": [5, 10, 20, 35, 50, 75, 120],\n",
    "        'random_state': [0]\n",
    "    },\n",
    "    {\n",
    "        'penalty': ['l1'],\n",
    "        'loss': ['squared_hinge'],\n",
    "        \"C\": [5, 10, 20, 35, 50, 75, 120],\n",
    "        'random_state': [0]\n",
    "    }]\n",
    "\n",
    "gsSVC = GridSearchCV(LinearSVC(), params_SVC, scoring=scoring, cv=cv, n_jobs=-1, refit=True, verbose= 2)\n",
    "gsSVC.fit(X_train, y_train)\n",
    "print(f\"Best hyper-parameters: {gsSVC.best_params_} with Best {scoring} of {gsSVC.best_score_*100:.2f}% in cross-validation.\\n\")\n",
    "print(f'f1-macro on Train set: {f1_score(y_t, gsSVC.predict(X_t), average=\"macro\")*100:.2f}%')\n",
    "print(f'f1-macro on Valid set: {f1_score(y_v, gsSVC.predict(X_v), average=\"macro\")*100:.2f}%')\n",
    "print(f'f1-macro on Test  set: {f1_score(y_test, gsSVC.predict(X_test), average=\"macro\")*100:.2f}%')\n",
    "\n",
    "print('All Parameters:')\n",
    "print(params_SVC)\n",
    "# CVdata(gsSVC)\n"
   ]
  }
 ],
 "metadata": {
  "colab": {
   "collapsed_sections": [],
   "name": "Copy of Assignment 3.ipynb",
   "provenance": []
  },
  "kernelspec": {
   "display_name": "Python 3 (ipykernel)",
   "language": "python",
   "name": "python3"
  },
  "language_info": {
   "codemirror_mode": {
    "name": "ipython",
    "version": 3
   },
   "file_extension": ".py",
   "mimetype": "text/x-python",
   "name": "python",
   "nbconvert_exporter": "python",
   "pygments_lexer": "ipython3",
   "version": "3.8.10"
  },
  "varInspector": {
   "cols": {
    "lenName": 16,
    "lenType": 16,
    "lenVar": 40
   },
   "kernels_config": {
    "python": {
     "delete_cmd_postfix": "",
     "delete_cmd_prefix": "del ",
     "library": "var_list.py",
     "varRefreshCmd": "print(var_dic_list())"
    },
    "r": {
     "delete_cmd_postfix": ") ",
     "delete_cmd_prefix": "rm(",
     "library": "var_list.r",
     "varRefreshCmd": "cat(var_dic_list()) "
    }
   },
   "types_to_exclude": [
    "module",
    "function",
    "builtin_function_or_method",
    "instance",
    "_Feature"
   ],
   "window_display": false
  }
 },
 "nbformat": 4,
 "nbformat_minor": 1
}
