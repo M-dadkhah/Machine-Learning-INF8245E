{
 "cells": [
  {
   "cell_type": "markdown",
   "metadata": {
    "id": "a4aQWnLWa-JX"
   },
   "source": [
    "# **Assignment 1**\n",
    "## 04\n",
    "___"
   ]
  },
  {
   "cell_type": "code",
   "execution_count": 1,
   "metadata": {
    "id": "fuZqEARWVp3q"
   },
   "outputs": [],
   "source": [
    "import numpy as np\n",
    "import matplotlib.pyplot as plt\n",
    "import random\n",
    "import pandas as pd\n",
    "import os\n",
    "\n",
    "np.random.seed(10)\n",
    "plt.style.use('ggplot')\n",
    "\n",
    "\n",
    "def loadData():\n",
    "    cNames = []\n",
    "    Root = os.getcwd().replace(\"\\\\\",\"/\")\n",
    "    with open(f\"{Root}/datasets/communities.names\") as reader:\n",
    "        cNames = [r.split()[1] for r in reader if r.startswith(\"@attribute\")]\n",
    "\n",
    "    Data = pd.read_csv(f\"{Root}/datasets/communities.data\", sep=\",\", names = cNames, na_values='?') \n",
    "    Data = Data.drop([\"state\", \"county\", \"community\", \"communityname\", \"fold\"], axis=1)\n",
    "    Data.insert(loc=0,column=\"x0\",value=1)\n",
    "    \n",
    "    return Data\n",
    "\n",
    "\n",
    "def fillMiss(Data,method):\n",
    "    Data = Data.copy(deep=True)\n",
    "    Mean = Data.mean()\n",
    "    Std    = Data.std()\n",
    "\n",
    "    for c in Data.columns:\n",
    "        isNan = Data[c].isna()\n",
    "        if not sum(isNan)==0:\n",
    "            if method=='mean':\n",
    "                Data.loc[isNan, c] = Mean[c]\n",
    "            elif method=='normal':\n",
    "                Data.loc[isNan, c] = np.random.normal(loc = Mean[c] , scale = Std[c], size=sum(isNan))\n",
    "    \n",
    "    return Data\n",
    "\n",
    "\n",
    "def wCalculator(Data, lambd=0):\n",
    "    X, Y, n, N = mathPrepration(Data)\n",
    "\n",
    "    MP = np.linalg.inv( np.matmul(X.T,X) + lambd * np.eye(n) )\n",
    "    W    = np.matmul( np.matmul(MP,X.T) , Y )\n",
    "    \n",
    "    return W\n",
    "\n",
    "\n",
    "def mathPrepration(Data):\n",
    "    X = Data.drop([\"ViolentCrimesPerPop\"], axis=1)\n",
    "    X = np.matrix(X)\n",
    "    n = np.shape(X)[1] \n",
    "    N = np.shape(X)[0]\n",
    "    Y = np.array(Data[\"ViolentCrimesPerPop\"]).reshape((N,1))\n",
    "    \n",
    "    return X, Y, n, N\n",
    "\n",
    "\n",
    "def costFunction(Data , W, lambd=0):\n",
    "    X, Y, n, N = mathPrepration(Data)\n",
    "    E = (np.sum(np.power(Y-np.matmul(X,W),2)) + lambd * np.sum(np.power(W,2)))\n",
    "    RMSE = np.sqrt(E/N)\n",
    "    return RMSE\n",
    "\n",
    "def dividingData(Data, ratio=0.8):\n",
    "    Test    = Data.loc[:int(Data.shape[0]*(1-ratio)),:]\n",
    "    Train = Data.loc[int(Data.shape[0]*(1-ratio)):,:]\n",
    "    return Train, Test\n",
    "\n",
    "def folding(Train, k=5):\n",
    "    bounds    = np.ceil( np.linspace(Train.index[0],Train.index[-1],k+1) ).astype(int)\n",
    "    Folds= [ [ Train.drop( range( bounds[i],bounds[i+1] )) ,\n",
    "                        Train.loc [ range( bounds[i],bounds[i+1] )    ,: ] ] for i in range(k)]\n",
    "    return Folds\n",
    "\n",
    "def W_fold(Folds, k=5, lambd=0, Print=False):                    \n",
    "    RMSE = np.zeros((k,1))\n",
    "    Wk         = []\n",
    "\n",
    "    for idx in range(k):\n",
    "        W = wCalculator(Folds[idx][0], lambd)\n",
    "        RMSE[idx] = costFunction(Folds[idx][1] , W, lambd)\n",
    "        Wk.append(W)\n",
    "    \n",
    "    if Print:\n",
    "        print(\"\\n\".join([f\"RMSE of validation set (fold {i+1})= {RMSE[i][0]:0.3f}\" for i in range(k)]))\n",
    "    RMSE = RMSE.mean()\n",
    "    W = np.mean(Wk,axis=0)\n",
    "    return RMSE, W"
   ]
  },
  {
   "cell_type": "code",
   "execution_count": 2,
   "metadata": {
    "id": "crgnXYTkhFX9"
   },
   "outputs": [
    {
     "name": "stdout",
     "output_type": "stream",
     "text": [
      "\n",
      "A sample column with NaN\n",
      "0    0.04\n",
      "1     NaN\n",
      "2     NaN\n",
      "3     NaN\n",
      "4     NaN\n",
      "Name: PolicOperBudg, dtype: float64\n",
      "\n",
      "The sample filled with mean\n",
      "0    0.040000\n",
      "1    0.076708\n",
      "2    0.076708\n",
      "3    0.076708\n",
      "4    0.076708\n",
      "Name: PolicOperBudg, dtype: float64\n",
      "\n",
      "The sample filled with random normal distribution\n",
      "0    0.040000\n",
      "1   -0.226826\n",
      "2    0.350067\n",
      "3    0.053343\n",
      "4    0.050014\n",
      "Name: PolicOperBudg, dtype: float64\n"
     ]
    }
   ],
   "source": [
    "print()\n",
    "Data = loadData()\n",
    "print(\"A sample column with NaN\")\n",
    "print(Data[\"PolicOperBudg\"].head(5))\n",
    "Data = fillMiss(Data,'mean')\n",
    "print(\"\\nThe sample filled with mean\")\n",
    "print(Data[\"PolicOperBudg\"].head(5))\n",
    "Data = loadData()\n",
    "Data = fillMiss(Data,'normal')\n",
    "print(\"\\nThe sample filled with random normal distribution\")\n",
    "print(Data[\"PolicOperBudg\"].head(5))\n"
   ]
  },
  {
   "cell_type": "code",
   "execution_count": 3,
   "metadata": {},
   "outputs": [],
   "source": [
    "Data = loadData()\n",
    "Data = fillMiss(Data,'mean')"
   ]
  },
  {
   "cell_type": "code",
   "execution_count": 4,
   "metadata": {},
   "outputs": [
    {
     "name": "stdout",
     "output_type": "stream",
     "text": [
      "RMSE of validation set (fold 1)= 0.166\n",
      "RMSE of validation set (fold 2)= 0.137\n",
      "RMSE of validation set (fold 3)= 0.132\n",
      "RMSE of validation set (fold 4)= 1.082\n",
      "RMSE of validation set (fold 5)= 0.137\n",
      "\n",
      "Average RMSE for 5-fold Train dataset = 0.331\n",
      "RMSE for Test dataset = 0.142\n"
     ]
    }
   ],
   "source": [
    "Train, Test = dividingData(Data, 0.8)\n",
    "k=5\n",
    "Folds = folding(Train, k=k)\n",
    "RMSE_tr, W = W_fold(Folds,Print=True)\n",
    "print(f\"\\nAverage RMSE for {k}-fold Train dataset = {RMSE_tr:0.3f}\")\n",
    "RMSE_test = costFunction( Test , W)\n",
    "print(f\"RMSE for Test dataset = {RMSE_test:0.3f}\")"
   ]
  },
  {
   "cell_type": "code",
   "execution_count": 5,
   "metadata": {
    "id": "JegJ8F__EBG1"
   },
   "outputs": [
    {
     "name": "stdout",
     "output_type": "stream",
     "text": [
      "Minimum of RMSE for train dataset: 0.140 , Corresponds to λ = 0.0160\n",
      "RMSE for test dataset: 0.143 , Corresponds to λ = 0.0160\n"
     ]
    },
    {
     "data": {
      "text/plain": [
       "<matplotlib.legend.Legend at 0x2693e752790>"
      ]
     },
     "execution_count": 5,
     "metadata": {},
     "output_type": "execute_result"
    },
    {
     "data": {
      "image/png": "[encoded data removed]",
      "text/plain": [
       "<Figure size 432x288 with 1 Axes>"
      ]
     },
     "metadata": {},
     "output_type": "display_data"
    }
   ],
   "source": [
    "Lambd= 10**np.linspace(-7,0,40)\n",
    "RMSE_tr = np.zeros((len(Lambd),1))\n",
    "RMSE_te = np.zeros((len(Lambd),1))\n",
    "  \n",
    "for idx, lambd in enumerate(Lambd):\n",
    "  RMSE_tr[idx], _ = W_fold(Folds, lambd=lambd)\n",
    "  \n",
    "arg = np.argmin(RMSE_tr)\n",
    "L = Lambd[arg]\n",
    "_, W = W_fold(Folds, lambd=L)\n",
    "RMSE_te = costFunction(Test, W, L)\n",
    "print(f\"Minimum of RMSE for train dataset: {RMSE_tr[arg][0]:.3f} , Corresponds to \\u03BB = {L:.4f}\")\n",
    "print(f\"RMSE for test dataset: {RMSE_te:.3f} , Corresponds to \\u03BB = {L:.4f}\")\n",
    "\n",
    "plt.plot(Lambd ,RMSE_tr,\"r\", label=\"Train\", linewidth=1)\n",
    "plt.plot(L,RMSE_tr[arg][0],\"o\",color=\"c\")\n",
    "\n",
    "plt.xlabel(\"\\u03BB\")\n",
    "plt.xscale(\"log\")\n",
    "plt.ylabel(\"$R_{MSE}$\")\n",
    "plt.legend()\n",
    "\n"
   ]
  },
  {
   "cell_type": "code",
   "execution_count": 6,
   "metadata": {
    "id": "iU79WoFWf2i7"
   },
   "outputs": [
    {
     "name": "stdout",
     "output_type": "stream",
     "text": [
      "25 Important Feature as sorted:\n",
      "\n",
      " NumImmig\n",
      " numbUrban\n",
      " NumIlleg\n",
      " LemasSwornFT\n",
      " OfficAssgnDrugUnits\n",
      " PctNotSpeakEnglWell\n",
      " OwnOccLowQuart\n",
      " whitePerCap\n",
      " PctRecImmig5\n",
      " PolicBudgPerPop\n",
      " LemasTotalReq\n",
      " PctPersOwnOccup\n",
      " PctPopUnderPov\n",
      " PctKids2Par\n",
      " PctLargHouseOccup\n",
      " PersPerRentOccHous\n",
      " LemasSwFTPerPop\n",
      " medIncome\n",
      " RentLowQ\n",
      " TotalPctDiv\n",
      " agePct16t24\n",
      " PersPerFam\n",
      " PctPolicHisp\n",
      " PctLess9thGrade\n",
      " PctPolicBlack\n",
      "Minimum of RMSE for train dataset: 0.146 , Corresponds to λ = 1e-07\n",
      "RMSE for test dataset: 0.149 , Corresponds to λ = 1e-07\n"
     ]
    },
    {
     "data": {
      "text/plain": [
       "<matplotlib.legend.Legend at 0x2693e766370>"
      ]
     },
     "execution_count": 6,
     "metadata": {},
     "output_type": "execute_result"
    },
    {
     "data": {
      "image/png": "[encoded data removed]",
      "text/plain": [
       "<Figure size 432x288 with 1 Axes>"
      ]
     },
     "metadata": {},
     "output_type": "display_data"
    }
   ],
   "source": [
    "cor = np.divide(W.T,list(Data.mean()[0:-1]))\n",
    "sortedF = np.argsort(cor)\n",
    "\n",
    "fNum = 25\n",
    "features = [Data.columns[sortedF[0][i]] for i in range(fNum)]\n",
    "print(f\"{fNum} Important Feature as sorted:\\n\")\n",
    "print(\"\\n\".join([f\" {features[i]}\" for i in range(fNum)]))\n",
    "features.append(\"ViolentCrimesPerPop\")\n",
    "\n",
    "newData = Data.copy(deep=True)\n",
    "newData = newData[features]\n",
    "Train, Test = dividingData(newData, 0.8)\n",
    "Folds = folding(Train)\n",
    "\n",
    "Lambd= 10**np.linspace(-7,0,40)\n",
    "N_lambda = len(Lambd)\n",
    "RMSE_tr = np.zeros(( N_lambda ,1))\n",
    "RMSE_te = np.zeros(( N_lambda ,1))\n",
    "  \n",
    "for idx, lambd in enumerate(Lambd):\n",
    "  RMSE_tr[idx], _ = W_fold(Folds, lambd=lambd)\n",
    "  \n",
    "arg = np.argmin(RMSE_tr)\n",
    "L = Lambd[arg]\n",
    "_, W_ = W_fold(Folds, lambd=L)\n",
    "RMSE_te = costFunction(Test, W_, L)\n",
    "print(f\"Minimum of RMSE for train dataset: {RMSE_tr[arg][0]:.3f} , Corresponds to \\u03BB = {L}\")\n",
    "print(f\"RMSE for test dataset: {RMSE_te:.3f} , Corresponds to \\u03BB = {L}\")\n",
    "\n",
    "plt.plot(Lambd ,RMSE_tr,\"r\", label=\"Train\", linewidth=1)\n",
    "plt.plot(L,RMSE_tr[arg][0],\"o\",color=\"c\")\n",
    "\n",
    "plt.xlabel(\"\\u03BB\")\n",
    "plt.xscale(\"log\")\n",
    "plt.ylabel(\"$R_{MSE}$\")\n",
    "plt.legend()\n",
    "\n"
   ]
  }
 ],
 "metadata": {
  "colab": {
   "authorship_tag": "ABX9TyO+NA5LTRnIWyqHZHPu8LEd",
   "collapsed_sections": [],
   "name": "Q4.ipynb",
   "private_outputs": true,
   "provenance": []
  },
  "kernelspec": {
   "display_name": "Python 3 (ipykernel)",
   "language": "python",
   "name": "python3"
  },
  "language_info": {
   "codemirror_mode": {
    "name": "ipython",
    "version": 3
   },
   "file_extension": ".py",
   "mimetype": "text/x-python",
   "name": "python",
   "nbconvert_exporter": "python",
   "pygments_lexer": "ipython3",
   "version": "3.9.5"
  },
  "varInspector": {
   "cols": {
    "lenName": 16,
    "lenType": 16,
    "lenVar": 40
   },
   "kernels_config": {
    "python": {
     "delete_cmd_postfix": "",
     "delete_cmd_prefix": "del ",
     "library": "var_list.py",
     "varRefreshCmd": "print(var_dic_list())"
    },
    "r": {
     "delete_cmd_postfix": ") ",
     "delete_cmd_prefix": "rm(",
     "library": "var_list.r",
     "varRefreshCmd": "cat(var_dic_list()) "
    }
   },
   "types_to_exclude": [
    "module",
    "function",
    "builtin_function_or_method",
    "instance",
    "_Feature"
   ],
   "window_display": false
  }
 },
 "nbformat": 4,
 "nbformat_minor": 1
}
