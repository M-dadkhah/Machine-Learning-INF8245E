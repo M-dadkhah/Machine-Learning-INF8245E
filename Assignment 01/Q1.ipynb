{
 "cells": [
  {
   "cell_type": "markdown",
   "metadata": {
    "id": "KdeIIuvgTh7e"
   },
   "source": [
    "# **Assignment 1**\n",
    "## Question 1\n",
    "___"
   ]
  },
  {
   "cell_type": "code",
   "execution_count": 1,
   "metadata": {
    "id": "bEpzw0YD_UxP"
   },
   "outputs": [],
   "source": [
    "import numpy as np\n",
    "np.random.seed(10)\n",
    "\n",
    "probs = {\"Movies\": 0.2, \n",
    "      \"INF8245E\": 0.4, \n",
    "      \"Playing\": 0.1, \n",
    "      \"Studying\": 0.3}\n",
    "\n",
    "Values = list(probs.values())\n",
    "Keys   = list(probs.keys()  )\n",
    "cumProbs = np.cumsum(Values)\n",
    "N = len(probs)\n",
    "\n",
    "def event(cumProbs):\n",
    "    Rand= np.random.rand()\n",
    "    for i in range(N) : \n",
    "        if (Rand < cumProbs[i]): \n",
    "            return i\n",
    "            break\n",
    "\n",
    "def replication(n):\n",
    "\n",
    "    E = np.zeros(N)\n",
    "    for i in range(n):\n",
    "        Output = event(cumProbs)\n",
    "        E[Output] += 1\n",
    "    return E/np.sum(E)"
   ]
  },
  {
   "cell_type": "code",
   "execution_count": 2,
   "metadata": {
    "id": "EERB3CksFXj4"
   },
   "outputs": [
    {
     "name": "stdout",
     "output_type": "stream",
     "text": [
      "Movies     : 0.19,  (*diff : 0.010)\n",
      "INF8245E   : 0.45,  (*diff : 0.050)\n",
      "Playing    : 0.10,  (*diff : 0.000)\n",
      "Studying   : 0.26,  (*diff : 0.040)\n",
      "*diff: absolute difference between probability and percentage of event.\n",
      "\n",
      "Movies     : 0.21,  (*diff : 0.013)\n",
      "INF8245E   : 0.39,  (*diff : 0.012)\n",
      "Playing    : 0.09,  (*diff : 0.011)\n",
      "Studying   : 0.31,  (*diff : 0.010)\n",
      "*diff: absolute difference between probability and percentage of event.\n",
      "\n"
     ]
    }
   ],
   "source": [
    "rep = replication(100)\n",
    "print(\"\\n\".join([f\"{Keys[i]:10s} : {rep[i]:.2f},  (*diff : {abs(Values[i]-rep[i]):.3f})\" for i in range(4)]))\n",
    "print(\"*diff: absolute difference between probability and percentage of event.\\n\")\n",
    "\n",
    "rep = replication(1000)\n",
    "print(\"\\n\".join([f\"{Keys[i]:10s} : {rep[i]:.2f},  (*diff : {abs(Values[i]-rep[i]):.3f})\" for i in range(4)]))\n",
    "print(\"*diff: absolute difference between probability and percentage of event.\\n\")\n"
   ]
  },
  {
   "cell_type": "code",
   "execution_count": null,
   "metadata": {},
   "outputs": [],
   "source": []
  }
 ],
 "metadata": {
  "colab": {
   "authorship_tag": "ABX9TyN/CFo1P8Amy91nTGPySrMP",
   "collapsed_sections": [],
   "name": "Q1.ipynb",
   "private_outputs": true,
   "provenance": []
  },
  "kernelspec": {
   "display_name": "Python 3 (ipykernel)",
   "language": "python",
   "name": "python3"
  },
  "language_info": {
   "codemirror_mode": {
    "name": "ipython",
    "version": 3
   },
   "file_extension": ".py",
   "mimetype": "text/x-python",
   "name": "python",
   "nbconvert_exporter": "python",
   "pygments_lexer": "ipython3",
   "version": "3.9.5"
  },
  "varInspector": {
   "cols": {
    "lenName": 16,
    "lenType": 16,
    "lenVar": 40
   },
   "kernels_config": {
    "python": {
     "delete_cmd_postfix": "",
     "delete_cmd_prefix": "del ",
     "library": "var_list.py",
     "varRefreshCmd": "print(var_dic_list())"
    },
    "r": {
     "delete_cmd_postfix": ") ",
     "delete_cmd_prefix": "rm(",
     "library": "var_list.r",
     "varRefreshCmd": "cat(var_dic_list()) "
    }
   },
   "types_to_exclude": [
    "module",
    "function",
    "builtin_function_or_method",
    "instance",
    "_Feature"
   ],
   "window_display": false
  }
 },
 "nbformat": 4,
 "nbformat_minor": 1
}
