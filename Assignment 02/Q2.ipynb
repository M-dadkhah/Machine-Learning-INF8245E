{
 "cells": [
  {
   "cell_type": "markdown",
   "metadata": {},
   "source": [
    "# 2. MNIST data"
   ]
  },
  {
   "cell_type": "code",
   "execution_count": 1,
   "metadata": {
    "ExecuteTime": {
     "end_time": "2021-10-24T23:16:39.553319Z",
     "start_time": "2021-10-24T23:16:36.486346Z"
    },
    "id": "5Y87DfLOjGPi"
   },
   "outputs": [],
   "source": [
    "from tensorflow import keras\n",
    "import numpy as np\n",
    "import numpy.random as random\n",
    "import matplotlib.pyplot as plt\n",
    "random.seed(10)\n",
    "plt.style.use('ggplot')\n",
    "\n",
    "Nc = 10\n",
    "\n",
    "\n",
    "def loadData():\n",
    "    Sets = [\"Train\", \"Valid\", \"Test\"]\n",
    "    d = dict((s, {\"X\": np.array([]), \"Y\": np.array([]), \"N\": []})\n",
    "             for s in Sets)\n",
    "\n",
    "    (X, Y), (X_, Y_) = keras.datasets.mnist.load_data()\n",
    "    n = len(X[0])*len(X[0][0])\n",
    "\n",
    "    d[\"Train\"][\"X\"] = X[:50000].reshape((50000, n))/255\n",
    "    d[\"Train\"][\"Y\"] = Y[:50000].reshape((50000, 1))\n",
    "    d[\"Train\"][\"N\"] = 50000\n",
    "\n",
    "    d[\"Valid\"][\"X\"] = X[50000:].reshape((10000, n))/255\n",
    "    d[\"Valid\"][\"Y\"] = Y[50000:].reshape((10000, 1))\n",
    "    d[\"Valid\"][\"N\"] = 10000\n",
    "\n",
    "    d[\"Test\"][\"X\"] = X_.reshape((10000, n))/255\n",
    "    d[\"Test\"][\"Y\"] = Y_.reshape((10000, 1))\n",
    "    d[\"Test\"][\"N\"] = 10000\n",
    "    return d, n\n",
    "\n",
    "\n",
    "def defClass(d):\n",
    "\n",
    "    Class = [{\"List\": np.array([False] * d[\"N\"]), \"N\":0, \"pi\":0,\n",
    "              \"mu\": 0, \"sigma\": 0, \"det\":0} for i in range(Nc)]\n",
    "    for i in range(d[\"N\"]):\n",
    "        Class[d[\"Y\"][i][0]][\"List\"][i] = True\n",
    "\n",
    "    for c in Class:\n",
    "        c[\"N\"] = sum(c[\"List\"])\n",
    "        c[\"pi\"] = c[\"N\"]/d[\"N\"]\n",
    "        c[\"mu\"] = np.mean(d[\"X\"][c[\"List\"]], axis=0)\n",
    "        c[\"sigma\"] = np.std(d[\"X\"][c[\"List\"]], axis=0)\n",
    "    return Class\n",
    "\n",
    "\n",
    "def Probability(d, C):\n",
    "\n",
    "    P = np.empty((d[\"N\"], Nc))\n",
    "    Pr = np.empty((d[\"N\"])).astype(int)\n",
    "    for idx, c in enumerate(C):\n",
    "        P[:,idx] = np.log(c[\"pi\"]) - np.sum(np.log(c[\"sigma\"][c[\"Not0\"]])) - 1/2 * np.sum(np.power((d[\"X\"][:,c[\"Not0\"]]-c[\"mu\"][c[\"Not0\"]])/c[\"sigma\"][c[\"Not0\"]], 2),axis=1)\n",
    "    return P\n",
    "\n",
    "\n",
    "def ClssificationGNB(P):\n",
    "    C = np.argmax(P, axis=1)\n",
    "    return C\n",
    "\n",
    "\n",
    "def Accuracy(d, C):\n",
    "    correct = np.sum(d[\"Y\"].reshape((d[\"N\"], 1)) == C.reshape((d[\"N\"], 1)))\n",
    "    return correct/d[\"N\"]"
   ]
  },
  {
   "cell_type": "markdown",
   "metadata": {},
   "source": [
    "### GNB"
   ]
  },
  {
   "cell_type": "code",
   "execution_count": 2,
   "metadata": {
    "ExecuteTime": {
     "end_time": "2021-10-24T23:19:54.374217Z",
     "start_time": "2021-10-24T23:16:39.555332Z"
    }
   },
   "outputs": [
    {
     "name": "stdout",
     "output_type": "stream",
     "text": [
      "______\n",
      "First Scenario: Training the model with hyperparameter σ₀\n",
      "The Accuracy on Validation set is: 84.22% w.r.t. σ₀=0.204\n",
      "                         1     2     3     4     5     6     7     8     9    10\n",
      "                 π =   0.10  0.11  0.10  0.10  0.10  0.09  0.10  0.10  0.10  0.10\n",
      "Number of Features =    333   164   346   319   301   331   297   275   313   273\n",
      "The Accuracy on Test set is: 84.03%\n",
      "______\n",
      "Second Scenario: Setting the σ₀ = 0.0010\n",
      "The Accuracy on Validation set is: 63.16% w.r.t. σ₀=0.001\n",
      "                         1     2     3     4     5     6     7     8     9    10\n",
      "                 π =   0.10  0.11  0.10  0.10  0.10  0.09  0.10  0.10  0.10  0.10\n",
      "Number of Features =    557   554   600   568   576   576   553   570   550   540\n",
      "The Accuracy on Test set is: 63.06%\n"
     ]
    },
    {
     "data": {
      "image/png": "[encoded data removed]",
      "text/plain": [
       "<Figure size 432x288 with 1 Axes>"
      ]
     },
     "metadata": {},
     "output_type": "display_data"
    }
   ],
   "source": [
    "Sigma0 = 10**np.linspace(-4, 0, 30)\n",
    "L = np.empty_like(Sigma0)\n",
    "Data, n = loadData()\n",
    "for s in range(len(Sigma0)):\n",
    "    Class = defClass(Data[\"Train\"])\n",
    "    for c in Class:\n",
    "        c[\"Not0\"] = c[\"sigma\"] >-1\n",
    "        c[\"sigma\"]= np.maximum(c[\"sigma\"],Sigma0[s])\n",
    "    P = Probability(Data[\"Valid\"], Class)\n",
    "    C = ClssificationGNB(P)\n",
    "    L[s] = Accuracy(Data[\"Valid\"], C)\n",
    "\n",
    "s = np.argmax(L)\n",
    "Class = defClass(Data[\"Train\"])\n",
    "for c in Class:\n",
    "        c[\"Not0\"] = c[\"sigma\"] >-1\n",
    "        c[\"sigma\"]= np.maximum(c[\"sigma\"],Sigma0[s])\n",
    "\n",
    "print(\"_\"*6+\"\\nFirst Scenario: Training the model with hyperparameter \\u03C3₀\")\n",
    "print(f\"The Accuracy on Validation set is: {L[s]*100:.2f}% w.r.t. \\u03C3₀={Sigma0[s]:.3f}\")\n",
    "print(\" \"*20     +            str().join([f\"{i  :6}\"    for i  in range(1,Nc+1)]))\n",
    "print(\" \"*17     +\"\\u03C0 = \"+str().join([f\"{pi :6.2f}\" for pi in [c[\"pi\"]                            for c in Class   ]]))\n",
    "print(\"Number of Features = \"+str().join([f\"{F  :6.0f}\" for F  in [sum(Class[i][\"sigma\"]!=Sigma0[s])  for i in range(Nc)]]))\n",
    "\n",
    "plt.plot(Sigma0, L)\n",
    "plt.title(\"Validation set Accuracy with different \\u03C3₀\")\n",
    "plt.xlabel(\"\\u03C3₀\")\n",
    "plt.ylabel(\"Accuracy (%)\")\n",
    "plt.xscale(\"log\")\n",
    "\n",
    "P = Probability(Data[\"Test\"], Class)\n",
    "C = ClssificationGNB(P)\n",
    "L1 = Accuracy(Data[\"Test\"], C)\n",
    "print(f\"The Accuracy on Test set is: {L1*100:.2f}%\")\n",
    "\n",
    "\n",
    "Sigma0 = 10**(-3)\n",
    "print(\"_\"*6+f\"\\nSecond Scenario: Setting the \\u03C3₀ = {Sigma0:.4f}\")\n",
    "Class = defClass(Data[\"Train\"])\n",
    "for c in Class:\n",
    "    c[\"Not0\"] = c[\"sigma\"] >-1\n",
    "    c[\"sigma\"]= np.maximum(c[\"sigma\"],Sigma0)\n",
    "P = Probability(Data[\"Valid\"], Class)\n",
    "C = ClssificationGNB(P)\n",
    "L = Accuracy(Data[\"Valid\"], C)\n",
    "\n",
    "print(f\"The Accuracy on Validation set is: {L*100:.2f}% w.r.t. \\u03C3₀={Sigma0:.3f}\")\n",
    "print(\" \"*20     +            str().join([f\"{i  :6}\"    for i  in range(1,Nc+1)]))\n",
    "print(\" \"*17     +\"\\u03C0 = \"+str().join([f\"{pi :6.2f}\" for pi in [c[\"pi\"]                            for c in Class   ]]))\n",
    "print(\"Number of Features = \"+str().join([f\"{F  :6.0f}\" for F  in [sum(Class[i][\"sigma\"]!=Sigma0)  for i in range(Nc)]]))\n",
    "P = Probability(Data[\"Test\"], Class)\n",
    "C = ClssificationGNB(P)\n",
    "L1 = Accuracy(Data[\"Test\"], C)\n",
    "print(f\"The Accuracy on Test set is: {L1*100:.2f}%\")\n"
   ]
  },
  {
   "cell_type": "markdown",
   "metadata": {},
   "source": [
    "### kNN - GPU Parallelized Computing with CUDA "
   ]
  },
  {
   "cell_type": "code",
   "execution_count": 3,
   "metadata": {
    "ExecuteTime": {
     "end_time": "2021-10-24T23:19:55.760514Z",
     "start_time": "2021-10-24T23:19:54.377170Z"
    }
   },
   "outputs": [],
   "source": [
    "import time\n",
    "try:\n",
    "    from numba import jit, prange, objmode\n",
    "except:\n",
    "    !pip3 install numba\n",
    "    from numba import jit, prange, objmode\n",
    "\n",
    "\n",
    "@jit(nopython=True, fastmath=True, parallel=True)\n",
    "def calculateDistances(X1, X2):\n",
    "    N1 = len(X1)\n",
    "    N2 = len(X2)\n",
    "    n = X1.shape[1]\n",
    "    Distances = np.zeros((N2, N1))\n",
    "    for i2 in range(N2):\n",
    "        for i1 in prange(N1):\n",
    "            d_2 = 0\n",
    "            for n_ in range(n):\n",
    "                minus = X1[i1, n_] - X2[i2, n_]\n",
    "                d_2 += minus * minus\n",
    "            Distances[i2, i1] = d_2\n",
    "        with objmode():\n",
    "            if (i2-3) % 7 == 0:\n",
    "                Time = int((time.time()-Start)*(N2-i2-1)/(i2+1))\n",
    "                (M, S) = divmod(Time, 60)\n",
    "                gear = [[\"•\"], [\" \"], [\"o\"], [\"\\\\\"], [\"|\"], [\n",
    "                    \"/\"], [\"—\"], [\"o\"], [\" \"]][int(i2/10) % 9][0]\n",
    "                Progress = (i2+1)/N2*100\n",
    "                print(' {} Progress: {:.2f}% , ({}/{}), Expected Remaining time: {:0>2}:{:0>2} {}'.format(\n",
    "                    gear, Progress, i2+1, N2, M, S, gear), end='\\r')\n",
    "    print(\"\")\n",
    "    return Distances\n",
    "\n",
    "\n",
    "def kNNfinder(d1, d2, nk=200):\n",
    "    NN = np.empty((d2[\"N\"], nk), dtype=np.int32)\n",
    "    distances = calculateDistances(d1[\"X\"], d2[\"X\"])\n",
    "    print(f\"Distances Calculated in {time.time()-Start:.2f} seconds.\")\n",
    "    for i in range(d2[\"N\"]):\n",
    "\n",
    "        NN[i, :] = d1[\"Y\"][np.argsort(distances[i])[\n",
    "            :nk].astype(int)].reshape((1, nk))\n",
    "    print(\"kNN is ready!\\n\")\n",
    "    return NN\n",
    "\n",
    "\n",
    "def TrainK(d, kNN, kVec):\n",
    "\n",
    "    Sum = np.zeros((d[\"N\"], 10))\n",
    "    for i in range(d[\"N\"]):\n",
    "        V, C = np.unique(kNN[i, :kVec[0]], return_counts=True)\n",
    "\n",
    "        for j in range(len(V)):\n",
    "            Sum[i, V[j]] = C[j]\n",
    "\n",
    "    Accu = []\n",
    "    for k in kVec:\n",
    "        C = np.argmax(Sum, axis=1)\n",
    "        Accu.append((k, Accuracy(d, C)))\n",
    "        try:\n",
    "            for i in range(d[\"N\"]):\n",
    "                Sum[i][kNN[i, k]] = Sum[i, kNN[i, k]] + 1\n",
    "        except:\n",
    "            return Accu\n",
    "\n",
    "\n",
    "def plotAccuracy(Accu):\n",
    "    plt.plot(*zip(*Accu), label=\"Accuracy\")\n",
    "    plt.title(\"Accuracy w.r.t. number of neighbors\")\n",
    "    plt.axis()\n",
    "    plt.xlabel(\"k\")\n",
    "    plt.ylabel(\"Accuracy (%)\")\n",
    "\n",
    "\n",
    "def printResult(Accu, nk):\n",
    "    if nk > 20:\n",
    "        Show = np.sort(random.permutation(nk)[:20])\n",
    "        print(\"Randomly chosen result:\")\n",
    "    else:\n",
    "        Show = range(nk)\n",
    "        print(f\"Result for k 1 to {nk}:\")\n",
    "\n",
    "    (K, AccuM) = max(Accu, key=lambda x: x[1])\n",
    "    print(\"        k :\" +\n",
    "          str().join([f\"  {k:3}   \" for k in [Accu[i][0] for i in Show]]))\n",
    "    print(\" Accuracy :\" +\n",
    "          str().join([f\" {a*100:2.2f}% \" for a in [Accu[i][1] for i in Show]]) + \"\\n\")\n",
    "    print(\n",
    "        f\"Best Accuracy on Validation set is {AccuM*100:.2f}% w.r.t. {K} Neighbors.\")"
   ]
  },
  {
   "cell_type": "markdown",
   "metadata": {},
   "source": [
    "### 2.a"
   ]
  },
  {
   "cell_type": "code",
   "execution_count": 4,
   "metadata": {
    "ExecuteTime": {
     "end_time": "2021-10-24T23:23:51.559148Z",
     "start_time": "2021-10-24T23:19:55.763120Z"
    }
   },
   "outputs": [
    {
     "name": "stdout",
     "output_type": "stream",
     "text": [
      " • Progress: 100.00% , (10000/10000), Expected Remaining time: 00:00 •\n",
      "Distances Calculated in 186.07 seconds.\n",
      "kNN is ready!\n",
      "\n",
      "Randomly chosen result:\n",
      "        k :    3       6      11      20      21      53      56      60      64      70      76      79      99     110     112     125     143     163     186     199   \n",
      " Accuracy : 97.20%  97.10%  96.92%  96.41%  96.49%  95.20%  95.11%  95.05%  95.01%  94.92%  94.76%  94.75%  94.47%  94.25%  94.22%  93.99%  93.78%  93.52%  93.31%  93.10% \n",
      "\n",
      "Best Accuracy on Validation set is 97.26% w.r.t. 4 Neighbors.\n"
     ]
    },
    {
     "data": {
      "image/png": "[encoded data removed]",
      "text/plain": [
       "<Figure size 432x288 with 1 Axes>"
      ]
     },
     "metadata": {},
     "output_type": "display_data"
    }
   ],
   "source": [
    "nk = 200\n",
    "Data, n = loadData()\n",
    "Start = time.time()\n",
    "kNN = kNNfinder(Data[\"Train\"], Data[\"Valid\"])\n",
    "Accu = TrainK(Data[\"Valid\"], kNN, range(1, nk+1))\n",
    "(K, AccuM) = max(Accu, key=lambda x: x[1])\n",
    "plotAccuracy(Accu)\n",
    "printResult(Accu, nk)"
   ]
  },
  {
   "cell_type": "markdown",
   "metadata": {},
   "source": [
    "### 2.b"
   ]
  },
  {
   "cell_type": "code",
   "execution_count": 5,
   "metadata": {
    "ExecuteTime": {
     "end_time": "2021-10-24T23:27:26.142959Z",
     "start_time": "2021-10-24T23:23:51.562104Z"
    }
   },
   "outputs": [
    {
     "name": "stdout",
     "output_type": "stream",
     "text": [
      " • Progress: 100.00% , (10000/10000), Expected Remaining time: 00:00 •\n",
      "Distances Calculated in 169.40 seconds.\n",
      "kNN is ready!\n",
      "\n",
      "Accuracy for Test Set is 96.58% w.r.t. 4 Neighbors.\n"
     ]
    }
   ],
   "source": [
    "Start = time.time()\n",
    "kNN = kNNfinder(Data[\"Train\"], Data[\"Test\"], K)\n",
    "Accu = TrainK(Data[\"Test\"], kNN, [K])\n",
    "(K, AccuM) = max(Accu, key=lambda x: x[1])\n",
    "print(f\"Accuracy for Test Set is {AccuM*100:.2f}% w.r.t. {K} Neighbors.\")"
   ]
  }
 ],
 "metadata": {
  "colab": {
   "collapsed_sections": [],
   "name": "Assignment2.ipynb",
   "private_outputs": true,
   "provenance": []
  },
  "kernelspec": {
   "display_name": "Python 3 (ipykernel)",
   "language": "python",
   "name": "python3"
  },
  "language_info": {
   "codemirror_mode": {
    "name": "ipython",
    "version": 3
   },
   "file_extension": ".py",
   "mimetype": "text/x-python",
   "name": "python",
   "nbconvert_exporter": "python",
   "pygments_lexer": "ipython3",
   "version": "3.8.10"
  },
  "varInspector": {
   "cols": {
    "lenName": 16,
    "lenType": 16,
    "lenVar": 40
   },
   "kernels_config": {
    "python": {
     "delete_cmd_postfix": "",
     "delete_cmd_prefix": "del ",
     "library": "var_list.py",
     "varRefreshCmd": "print(var_dic_list())"
    },
    "r": {
     "delete_cmd_postfix": ") ",
     "delete_cmd_prefix": "rm(",
     "library": "var_list.r",
     "varRefreshCmd": "cat(var_dic_list()) "
    }
   },
   "types_to_exclude": [
    "module",
    "function",
    "builtin_function_or_method",
    "instance",
    "_Feature"
   ],
   "window_display": false
  }
 },
 "nbformat": 4,
 "nbformat_minor": 1
}
