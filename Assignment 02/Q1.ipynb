{
 "cells": [
  {
   "cell_type": "markdown",
   "id": "c27b36bb",
   "metadata": {},
   "source": [
    "# 1 - Linear Classification and Nearest Neighbor Classification"
   ]
  },
  {
   "cell_type": "code",
   "execution_count": 2,
   "id": "df416a0b",
   "metadata": {
    "ExecuteTime": {
     "end_time": "2021-10-25T01:43:55.957746Z",
     "start_time": "2021-10-25T01:43:55.926933Z"
    }
   },
   "outputs": [],
   "source": [
    "import numpy as np\n",
    "import matplotlib.pyplot as plt\n",
    "import numpy.random as random\n",
    "random.seed(10)\n",
    "plt.style.use('ggplot')\n",
    "n = 20\n",
    "Nc = [2000, 2000]\n",
    "Cls  = [\"-\",\"+\"]\n",
    "\n",
    "def createData(Ndataset, Pdist, setBounds=[0, 0.6, 0.8, 1]):\n",
    "    Sets = [\"Train\", \"Valid\", \"Test\"]\n",
    "    Ndist = len(Pdist)\n",
    "    Class = [{\"X\": np.empty((Nc[c-1], n)),\n",
    "              \"Y\": np.full((Nc[c-1], 1), c-1),\n",
    "              \"N\": Nc[c-1],\n",
    "              \"pi\": Nc[c-1]/sum(Nc),\n",
    "              \"Mean\": [np.genfromtxt(f\"hwk2_datasets\\DS{Ndataset}_c{c}_m{i}.txt\",\n",
    "                                     delimiter=\",\")[:-1]   .reshape((1, n)) for i in range(1, Ndist+1)],\n",
    "              \"Cov\":  [np.genfromtxt(f\"hwk2_datasets\\DS{Ndataset}_Cov{i}.txt\",\n",
    "                                     delimiter=\",\")[:, :-1].reshape((n, n)) for i in range(1, Ndist+1)],\n",
    "              \"randOrder\": []} for c in [1, 2]]\n",
    "\n",
    "    for c in Class:\n",
    "        for i in range(c[\"N\"]):\n",
    "            dist = np.searchsorted(Pdist, random.rand())\n",
    "            c[\"X\"][i, :] = random.multivariate_normal(\n",
    "                c[\"Mean\"][dist][0], c[\"Cov\"][dist])\n",
    "        c[\"randOrder\"] = random.permutation(c[\"N\"])\n",
    "\n",
    "    data = dict((s, {\"X\": np.array([]), \"Y\": np.array([]), \"N\": []})\n",
    "                for s in Sets)\n",
    "    for i in range(len(Sets)):\n",
    "        sample0 = Class[0][\"randOrder\"][range(\n",
    "            int(setBounds[i]*c[\"N\"]), int(setBounds[i+1]*c[\"N\"]))]\n",
    "        sample1 = Class[1][\"randOrder\"][range(\n",
    "            int(setBounds[i]*c[\"N\"]), int(setBounds[i+1]*c[\"N\"]))]\n",
    "        data[Sets[i]][\"X\"] = np.append(Class[0][\"X\"][sample0], Class[1][\"X\"][sample1], axis=0).reshape(\n",
    "            (len(sample0) + len(sample1), n))\n",
    "        data[Sets[i]][\"Y\"] = np.append(Class[0][\"Y\"][sample0], Class[1][\"Y\"][sample1]).reshape(\n",
    "            (len(sample0) + len(sample1), 1))\n",
    "        data[Sets[i]][\"N\"] = len(data[Sets[i]][\"Y\"])\n",
    "    \n",
    "    printModel(data)\n",
    "    return data\n",
    "\n",
    "def printModel(d):\n",
    "    print(\"A Random member of each datasets is as follow: \\n\")\n",
    "    print(\" \"*6 + str().join([f\"  x{i:<2}  \"   for i in range(1,n+1)]) + \"Y\")\n",
    "    for Set in d:\n",
    "        Rand = random.randint(d[Set][\"N\"])\n",
    "        X = d[Set][\"X\"][Rand]\n",
    "        Y = Cls[d[Set][\"Y\"][Rand][0]]\n",
    "        print(f\"{Set:5}\" + str().join([f\" {X[j]:+.2f} \" for j in range(n)]) + f\" {Y}\")\n",
    "\n",
    "\n",
    "def defClass(d):\n",
    "\n",
    "    Class = [{\"List\": np.array([False] * d[\"N\"]), \"N\":0,\n",
    "              \"pi\":0, \"mu\": 0, \"cov\": 0} for i in range(2)]\n",
    "    for i in range(d[\"N\"]):\n",
    "        Class[d[\"Y\"][i][0]][\"List\"][i] = True\n",
    "\n",
    "    for c in Class:\n",
    "        c[\"N\"] = sum(c[\"List\"])\n",
    "        c[\"pi\"] = c[\"N\"]/d[\"N\"]\n",
    "        c[\"mu\"] = np.mean(d[\"X\"][c[\"List\"]], axis=0).reshape((1, n))\n",
    "        c[\"cov\"] = np.cov(d[\"X\"][c[\"List\"]].T)\n",
    "    return Class\n",
    "\n",
    "\n",
    "def Parameters(C):\n",
    "    Sigma = (C[0][\"cov\"]*C[0][\"N\"] + C[1][\"cov\"]*C[1][\"N\"])/(C[0][\"N\"]+C[1][\"N\"])\n",
    "    sigInv = np.linalg.inv(Sigma)\n",
    "    W = np.append(1/2 * (np.matmul(np.matmul(C[1][\"mu\"], sigInv), C[1][\"mu\"].T) -\n",
    "                         np.matmul(np.matmul(C[0][\"mu\"], sigInv), C[0][\"mu\"].T)) +\n",
    "                  np.log(C[0][\"pi\"]/C[1][\"pi\"]),\n",
    "                  np.matmul(sigInv, C[0][\"mu\"].T - C[1][\"mu\"].T)).reshape((1, n+1))[0]\n",
    "    return W, Sigma\n",
    "\n",
    "def printW_mu(W, C, S):\n",
    "    mu0 = C[0][\"mu\"][0]\n",
    "    mu1 = C[1][\"mu\"][0]\n",
    "    pi = [C[0][\"pi\"] , C[1][\"pi\"]]\n",
    "    print(\" \"*3  + str().join([f\" {i:6} \"   for i in range(n+1)]))\n",
    "    print(\" \"*3 + \"W :\"              + str().join([f\" {W[i]  :+6.2f} \" for i in range(n+1)]))\n",
    "    print(\" \"*3 + \"\\u03BC₁:\" + \" \"*8 + str().join([f\" {mu0[i]:+6.3f} \" for i in range(n)]))\n",
    "    print(\" \"*3 + \"\\u03BC₂:\" + \" \"*8 + str().join([f\" {mu1[i]:+6.3f} \" for i in range(n)]))\n",
    "    print(str().join([f\"\\n\\u03C0₁ = {pi[i]}\" for i in range(2)] ))\n",
    "    print(\"\\n Sigma :\")\n",
    "    print(np.array_str(S, precision=2, max_line_width=130))\n",
    "    \n",
    "\n",
    "def Probability(W, d):\n",
    "    return 1/(1+np.exp(-np.matmul(W[1:], d[\"X\"].T)-W[0])).reshape((d[\"N\"], 1))\n",
    "\n",
    "\n",
    "def Accuracy(d, C):\n",
    "    correct = np.sum(d[\"Y\"].reshape((d[\"N\"], 1)) == C.reshape((d[\"N\"], 1)))\n",
    "    return correct/d[\"N\"]"
   ]
  },
  {
   "cell_type": "markdown",
   "id": "87e64367",
   "metadata": {},
   "source": [
    "### 1- Create Data"
   ]
  },
  {
   "cell_type": "code",
   "execution_count": 3,
   "id": "86190a69",
   "metadata": {
    "ExecuteTime": {
     "end_time": "2021-10-25T01:43:58.160990Z",
     "start_time": "2021-10-25T01:43:56.665624Z"
    }
   },
   "outputs": [
    {
     "name": "stdout",
     "output_type": "stream",
     "text": [
      "A Random member of each datasets is as follow: \n",
      "\n",
      "        x1     x2     x3     x4     x5     x6     x7     x8     x9     x10    x11    x12    x13    x14    x15    x16    x17    x18    x19    x20  Y\n",
      "Train +1.29  +0.64  +2.43  +2.51  +3.39  +1.45  +1.87  +1.41  +0.50  +2.82  +2.88  -0.77  +0.41  +3.54  +4.12  +3.07  -0.15  +1.76  +1.34  +3.16  +\n",
      "Valid +2.64  +4.02  +4.65  +3.97  +3.83  +3.45  +2.63  +1.17  +3.40  +1.68  +3.20  +2.22  +1.48  +3.14  +3.23  +1.36  +5.10  +1.96  +1.83  +1.70  +\n",
      "Test  +4.54  +3.08  +4.49  +4.13  +3.25  +5.26  +2.27  +2.48  +3.59  +5.42  +2.94  +2.56  +5.60  +1.36  +2.84  +3.57  +2.97  +3.51  +0.30  +5.30  +\n"
     ]
    }
   ],
   "source": [
    "DS1 = createData(Ndataset=1, Pdist = [1], setBounds = [0,0.6,0.8,1])\n",
    "# DS1[\"Train\"][\"X\"]\n",
    "# DS1[\"Valid\"][\"X\"]\n",
    "# DS1[\"Test\" ][\"X\"]\n",
    "# DS1[\"Test\" ][\"Y\"]"
   ]
  },
  {
   "cell_type": "markdown",
   "id": "170db8a8",
   "metadata": {},
   "source": [
    "### 2- GDA"
   ]
  },
  {
   "cell_type": "code",
   "execution_count": 4,
   "id": "2236114c",
   "metadata": {
    "ExecuteTime": {
     "end_time": "2021-10-25T01:43:58.332696Z",
     "start_time": "2021-10-25T01:43:58.247984Z"
    }
   },
   "outputs": [
    {
     "name": "stdout",
     "output_type": "stream",
     "text": [
      "\n",
      "The accuracy for the test set is: 94.38%\n",
      "\n",
      "         0       1       2       3       4       5       6       7       8       9      10      11      12      13      14      15      16      17      18      19      20 \n",
      "   W : +26.79  +13.97   -8.29   -5.69   -3.22   -9.48   -3.99  +16.56  -23.30  -28.46   +8.90  -12.73  -11.90  +15.14  +12.72   -5.37  +12.58  +28.67   -6.63   -0.86   -4.80 \n",
      "   μ₁:         +1.198  +1.199  +1.113  +1.214  +1.160  +1.163  +1.187  +1.245  +1.169  +1.177  +1.228  +1.233  +1.211  +1.227  +1.214  +1.200  +1.150  +1.197  +1.249  +1.275 \n",
      "   μ₂:         +2.019  +2.008  +2.001  +2.028  +2.024  +1.973  +2.057  +1.976  +2.038  +1.996  +2.039  +2.001  +2.040  +2.018  +2.065  +2.016  +1.986  +1.968  +2.042  +2.079 \n",
      "\n",
      "π₁ = 0.5\n",
      "π₁ = 0.5\n",
      "\n",
      " Sigma :\n",
      "[[7.61 5.39 5.8  4.97 5.58 5.86 4.57 5.24 4.81 5.02 3.79 5.06 6.77 5.85 5.83 5.8  5.58 5.42 5.51 5.8 ]\n",
      " [5.39 6.95 5.17 4.25 5.35 5.49 4.32 3.91 4.04 5.03 3.32 4.56 5.81 5.02 5.28 5.11 5.54 5.   5.39 5.32]\n",
      " [5.8  5.17 6.89 4.65 5.45 6.25 4.43 4.66 4.57 4.85 3.08 4.42 6.02 4.91 5.78 5.81 5.87 4.68 4.53 4.89]\n",
      " [4.97 4.25 4.65 5.57 5.09 4.34 3.63 4.21 3.27 4.06 2.66 4.   5.61 4.68 4.63 4.93 4.5  4.32 3.87 5.67]\n",
      " [5.58 5.35 5.45 5.09 6.8  5.16 4.89 4.25 4.5  5.01 4.   4.83 5.93 5.77 5.74 6.06 5.71 4.96 5.33 5.61]\n",
      " [5.86 5.49 6.25 4.34 5.16 6.47 4.34 4.79 4.49 5.21 2.85 4.67 6.17 4.79 5.54 5.84 5.65 4.79 4.7  5.09]\n",
      " [4.57 4.32 4.43 3.63 4.89 4.34 5.13 3.84 3.85 4.24 2.95 4.27 4.56 4.11 4.59 5.17 4.21 3.55 4.64 3.86]\n",
      " [5.24 3.91 4.66 4.21 4.25 4.79 3.84 5.89 3.45 4.78 2.43 4.75 5.98 5.1  4.78 6.07 4.37 4.75 4.81 4.4 ]\n",
      " [4.81 4.04 4.57 3.27 4.5  4.49 3.85 3.45 4.78 4.51 3.06 3.93 4.92 4.51 4.72 4.99 4.89 3.89 4.16 4.03]\n",
      " [5.02 5.03 4.85 4.06 5.01 5.21 4.24 4.78 4.51 7.07 3.22 4.62 6.74 5.09 4.83 5.81 4.6  5.2  4.52 5.27]\n",
      " [3.79 3.32 3.08 2.66 4.   2.85 2.95 2.43 3.06 3.22 3.31 2.79 3.53 3.87 3.48 3.58 3.54 3.09 3.7  3.4 ]\n",
      " [5.06 4.56 4.42 4.   4.83 4.67 4.27 4.75 3.93 4.62 2.79 5.13 5.81 4.88 4.63 5.45 4.85 4.69 4.99 4.44]\n",
      " [6.77 5.81 6.02 5.61 5.93 6.17 4.56 5.98 4.92 6.74 3.53 5.81 8.82 6.08 5.98 6.41 5.74 6.13 5.77 7.16]\n",
      " [5.85 5.02 4.91 4.68 5.77 4.79 4.11 5.1  4.51 5.09 3.87 4.88 6.08 6.88 5.71 6.16 5.51 5.46 5.91 5.42]\n",
      " [5.83 5.28 5.78 4.63 5.74 5.54 4.59 4.78 4.72 4.83 3.48 4.63 5.98 5.71 6.72 7.   5.6  4.86 5.38 5.59]\n",
      " [5.8  5.11 5.81 4.93 6.06 5.84 5.17 6.07 4.99 5.81 3.58 5.45 6.41 6.16 7.   9.11 5.75 5.67 5.66 5.81]\n",
      " [5.58 5.54 5.87 4.5  5.71 5.65 4.21 4.37 4.89 4.6  3.54 4.85 5.74 5.51 5.6  5.75 6.5  4.95 5.25 4.87]\n",
      " [5.42 5.   4.68 4.32 4.96 4.79 3.55 4.75 3.89 5.2  3.09 4.69 6.13 5.46 4.86 5.67 4.95 5.75 4.77 5.03]\n",
      " [5.51 5.39 4.53 3.87 5.33 4.7  4.64 4.81 4.16 4.52 3.7  4.99 5.77 5.91 5.38 5.66 5.25 4.77 6.44 4.92]\n",
      " [5.8  5.32 4.89 5.67 5.61 5.09 3.86 4.4  4.03 5.27 3.4  4.44 7.16 5.42 5.59 5.81 4.87 5.03 4.92 7.93]]\n"
     ]
    }
   ],
   "source": [
    "Class    = defClass(DS1[\"Train\"])\n",
    "W, Sigma = Parameters(Class)\n",
    "P = Probability(W, DS1[\"Test\"])\n",
    "Pred = (P<0.5)\n",
    "Accu = Accuracy(DS1[\"Test\"],Pred)\n",
    "\n",
    "print(f\"\\nThe accuracy for the test set is: {Accu*100:.2f}%\\n\")\n",
    "printW_mu(W, Class, Sigma)"
   ]
  },
  {
   "cell_type": "markdown",
   "id": "d9764cca",
   "metadata": {},
   "source": [
    "### 3- kNN"
   ]
  },
  {
   "cell_type": "code",
   "execution_count": 5,
   "id": "0acb6b7f",
   "metadata": {
    "ExecuteTime": {
     "end_time": "2021-10-25T01:43:59.625741Z",
     "start_time": "2021-10-25T01:43:59.542523Z"
    }
   },
   "outputs": [],
   "source": [
    "from tqdm import tqdm\n",
    "def kNNfinder(d1, d2):\n",
    "    NN = np.empty((d2[\"N\"],d1[\"N\"]),dtype=int)\n",
    "    for i,x in enumerate(tqdm(d2[\"X\"],leave=False)):\n",
    "        distances = np.sum(np.power(d1[\"X\"]-x,2),axis=1)\n",
    "        NN[i] = d1[\"Y\"][np.argsort( distances )].reshape((1,d1[\"N\"]))\n",
    "    print(\"kNN is ready!\")\n",
    "    return NN\n",
    "\n",
    "\n",
    "def TrainK(d, kNN, kVec):\n",
    "\n",
    "    Sum = np.sum(kNN[:,:kVec[0]],axis=1)\n",
    "    Accu = []\n",
    "    for k in kVec:\n",
    "        C = Sum>0.5*k\n",
    "        Accu.append((k, Accuracy(d, C)))\n",
    "        Sum = Sum + kNN[:,k]\n",
    "    return Accu\n",
    "\n",
    "def plotAccuracy(Accu):\n",
    "    plt.plot(*zip(*Accu), label=\"Accuracy\")\n",
    "    plt.title(\"Accuracy w.r.t number of neighbors\")\n",
    "    plt.axis()\n",
    "    plt.xlabel(\"k\")\n",
    "    plt.ylabel(\"Accuracy (%)\")\n",
    "\n",
    "def printResult(Accu, nk):\n",
    "    if nk>20:\n",
    "        Show = np.sort(random.permutation(nk)[:20])\n",
    "        print(\"Randomly chosen result:\")\n",
    "    else:\n",
    "        Show = range(nk)\n",
    "        print(f\"Result for k 1 to {nk}:\")\n",
    "\n",
    "    (K,AccuM)=max(Accu, key=lambda x:x[1])\n",
    "    print(\"       k :\"+str().join([f\"  {k:3}   \"  for k in [Accu[i][0] for i in Show]]))\n",
    "    print(\"Accuracy :\"+str().join([f\" {a*100:2.2f}% \" for a in [Accu[i][1] for i in Show]]) +\"\\n\")\n",
    "    print(f\"Best Accuracy in Validation Set is {AccuM*100:.2f}% w.r.t. {K} Neighbors.\")\n",
    "    \n"
   ]
  },
  {
   "cell_type": "markdown",
   "id": "6a6f94c3",
   "metadata": {},
   "source": [
    "### 3-a"
   ]
  },
  {
   "cell_type": "code",
   "execution_count": 6,
   "id": "97ea5e72",
   "metadata": {
    "ExecuteTime": {
     "end_time": "2021-10-25T01:44:03.004777Z",
     "start_time": "2021-10-25T01:44:00.470839Z"
    }
   },
   "outputs": [
    {
     "name": "stderr",
     "output_type": "stream",
     "text": [
      "                                                                                                                       \r"
     ]
    },
    {
     "name": "stdout",
     "output_type": "stream",
     "text": [
      "kNN is ready!\n",
      "Randomly chosen result:\n",
      "       k :   31      63     127     225     228     265     344     462     531     757     840     850     975     980     989     1119     1146     1185     1290     1328   \n",
      "Accuracy : 56.12%  55.88%  58.13%  57.88%  57.75%  57.75%  57.63%  57.88%  58.13%  57.38%  56.12%  56.50%  56.62%  56.50%  56.62%  56.62%  56.38%  56.50%  56.12%  55.75% \n",
      "\n",
      "Best Accuracy in Validation Set is 59.38% w.r.t. 110 Neighbors.\n"
     ]
    },
    {
     "data": {
      "image/png": "[encoded data removed]",
      "text/plain": [
       "<Figure size 432x288 with 1 Axes>"
      ]
     },
     "metadata": {},
     "output_type": "display_data"
    }
   ],
   "source": [
    "nk = 1500\n",
    "kNN = kNNfinder(DS1[\"Train\"], DS1[\"Valid\"])\n",
    "Accu = TrainK(DS1[\"Valid\"], kNN, range(1,nk+1))\n",
    "(K,AccuM)=max(Accu, key=lambda x:x[1])\n",
    "plotAccuracy(Accu)\n",
    "printResult(Accu, nk)"
   ]
  },
  {
   "cell_type": "markdown",
   "id": "60976ac5",
   "metadata": {},
   "source": [
    "### 3-b"
   ]
  },
  {
   "cell_type": "code",
   "execution_count": 7,
   "id": "1baa2500",
   "metadata": {
    "ExecuteTime": {
     "end_time": "2021-10-25T01:44:05.303955Z",
     "start_time": "2021-10-25T01:44:03.127831Z"
    }
   },
   "outputs": [
    {
     "name": "stderr",
     "output_type": "stream",
     "text": [
      "                                                                                                                       "
     ]
    },
    {
     "name": "stdout",
     "output_type": "stream",
     "text": [
      "kNN is ready!\n",
      "Accuracy for Test Set is 56.12% w.r.t. 110 Neighbors.\n"
     ]
    },
    {
     "name": "stderr",
     "output_type": "stream",
     "text": [
      "\r"
     ]
    }
   ],
   "source": [
    "kNN = kNNfinder(DS1[\"Train\"], DS1[\"Test\"])\n",
    "Accu = TrainK(DS1[\"Test\"], kNN, [K])\n",
    "(K,AccuM)=max(Accu, key=lambda x:x[1])\n",
    "print(f\"Accuracy for Test Set is {AccuM*100:.2f}% w.r.t. {K} Neighbors.\")"
   ]
  },
  {
   "cell_type": "markdown",
   "id": "25b8dea8",
   "metadata": {},
   "source": [
    "### 4. Multivariate Gaussian Distribution - Create Data"
   ]
  },
  {
   "cell_type": "code",
   "execution_count": 8,
   "id": "9dd579bc",
   "metadata": {
    "ExecuteTime": {
     "end_time": "2021-10-25T01:44:06.689679Z",
     "start_time": "2021-10-25T01:44:05.439568Z"
    }
   },
   "outputs": [
    {
     "name": "stdout",
     "output_type": "stream",
     "text": [
      "A Random member of each datasets is as follow: \n",
      "\n",
      "        x1     x2     x3     x4     x5     x6     x7     x8     x9     x10    x11    x12    x13    x14    x15    x16    x17    x18    x19    x20  Y\n",
      "Train +5.11  +5.74  +4.03  +5.41  +5.16  +6.14  +7.38  +4.51  +4.82  +5.87  +2.70  +2.64  +4.36  +6.65  +4.50  +6.38  +3.51  +5.10  +5.05  +6.51  -\n",
      "Valid +1.52  +2.22  +3.46  +1.74  +3.00  +2.40  +3.10  +0.75  +2.80  +4.09  +3.69  +4.66  +3.99  +2.05  +3.79  +3.15  +0.91  +1.40  +4.62  +2.10  -\n",
      "Test  -1.78  -1.85  -3.10  -1.43  -1.77  -0.83  -1.41  -2.27  -1.31  -1.38  -1.71  +0.94  -2.27  -1.48  +0.32  -1.82  -0.02  -1.97  -1.70  -0.14  -\n"
     ]
    }
   ],
   "source": [
    "DS2 = createData(Ndataset=2, Pdist = np.cumsum([0.1,0.42,0.48]), setBounds = [0,0.6,0.8,1])\n",
    "# DS2[\"Train\"][\"X\"]\n",
    "# DS2[\"Valid\"][\"X\"]\n",
    "# DS2[\"Test\" ][\"X\"]\n",
    "# DS2[\"Test\" ][\"Y\"]"
   ]
  },
  {
   "cell_type": "markdown",
   "id": "6aed1a22",
   "metadata": {},
   "source": [
    "### 5.1 GDA "
   ]
  },
  {
   "cell_type": "code",
   "execution_count": 9,
   "id": "f5bc8f33",
   "metadata": {
    "ExecuteTime": {
     "end_time": "2021-10-25T01:44:06.873779Z",
     "start_time": "2021-10-25T01:44:06.833564Z"
    }
   },
   "outputs": [
    {
     "name": "stdout",
     "output_type": "stream",
     "text": [
      "\n",
      " The accuracy is: 51.24999999999999%\n",
      "\n",
      "         0       1       2       3       4       5       6       7       8       9      10      11      12      13      14      15      16      17      18      19      20 \n",
      "   W :  +0.02   -0.00   -0.00   -0.05   -0.01   -0.03   -0.00   -0.04   -0.07   +0.02   -0.00   -0.01   -0.04   -0.02   +0.01   +0.02   +0.11   -0.03   +0.09   -0.00   +0.04 \n",
      "   μ₁:         +1.071  +1.005  +0.933  +0.912  +1.014  +0.997  +0.920  +1.020  +0.974  +0.981  +0.995  +0.951  +0.990  +1.007  +1.018  +1.057  +0.997  +1.064  +0.969  +1.071 \n",
      "   μ₂:         +1.047  +1.038  +1.131  +0.991  +1.069  +0.975  +1.050  +1.070  +1.038  +1.072  +1.097  +1.074  +1.031  +1.145  +1.058  +0.972  +1.108  +0.931  +1.056  +1.065 \n",
      "\n",
      "π₁ = 0.5\n",
      "π₁ = 0.5\n",
      "\n",
      " Sigma :\n",
      "[[7.92 5.43 4.61 5.09 4.25 5.77 5.95 5.7  4.69 5.33 5.52 5.06 5.01 6.26 5.31 5.72 5.52 5.51 5.63 5.99]\n",
      " [5.43 7.3  4.82 5.24 4.99 6.06 6.55 5.42 4.58 5.   4.84 5.   4.79 6.11 5.49 5.93 5.35 4.98 6.17 5.77]\n",
      " [4.61 4.82 6.74 5.19 4.75 4.83 5.95 4.51 4.57 4.72 4.68 4.92 4.98 6.01 5.21 4.84 5.42 4.33 5.78 5.77]\n",
      " [5.09 5.24 5.19 6.69 4.22 5.61 6.3  5.4  4.72 5.45 4.94 4.79 4.91 5.55 5.22 5.37 5.25 5.12 5.87 5.79]\n",
      " [4.25 4.99 4.75 4.22 5.67 4.67 5.07 4.43 3.65 3.93 3.66 4.09 4.08 4.78 5.05 4.81 4.32 4.37 5.2  4.93]\n",
      " [5.77 6.06 4.83 5.61 4.67 7.8  6.75 5.35 5.49 5.47 4.81 4.93 5.2  6.47 5.53 5.89 5.72 5.37 6.54 6.2 ]\n",
      " [5.95 6.55 5.95 6.3  5.07 6.75 8.52 6.   5.82 6.09 5.9  5.8  5.55 7.   5.87 6.33 6.03 5.59 7.25 6.43]\n",
      " [5.7  5.42 4.51 5.4  4.43 5.35 6.   6.47 4.62 5.02 4.58 4.73 4.25 5.5  5.14 5.33 4.97 5.56 5.56 5.54]\n",
      " [4.69 4.58 4.57 4.72 3.65 5.49 5.82 4.62 5.88 4.55 4.26 4.31 4.22 5.14 4.59 4.44 4.76 4.51 4.88 4.89]\n",
      " [5.33 5.   4.72 5.45 3.93 5.47 6.09 5.02 4.55 6.64 4.64 4.51 4.73 5.64 4.95 5.03 4.97 4.48 6.07 5.28]\n",
      " [5.52 4.84 4.68 4.94 3.66 4.81 5.9  4.58 4.26 4.64 5.99 4.96 4.54 5.21 4.84 4.7  4.87 4.49 5.59 5.32]\n",
      " [5.06 5.   4.92 4.79 4.09 4.93 5.8  4.73 4.31 4.51 4.96 6.35 4.45 5.38 5.22 5.03 5.21 4.85 5.62 5.21]\n",
      " [5.01 4.79 4.98 4.91 4.08 5.2  5.55 4.25 4.22 4.73 4.54 4.45 6.1  5.45 5.32 5.16 5.18 4.47 5.6  5.3 ]\n",
      " [6.26 6.11 6.01 5.55 4.78 6.47 7.   5.5  5.14 5.64 5.21 5.38 5.45 8.19 5.78 5.8  6.3  4.69 6.37 6.33]\n",
      " [5.31 5.49 5.21 5.22 5.05 5.53 5.87 5.14 4.59 4.95 4.84 5.22 5.32 5.78 6.99 5.29 5.42 5.14 5.72 6.11]\n",
      " [5.72 5.93 4.84 5.37 4.81 5.89 6.33 5.33 4.44 5.03 4.7  5.03 5.16 5.8  5.29 6.64 5.36 5.46 6.15 5.77]\n",
      " [5.52 5.35 5.42 5.25 4.32 5.72 6.03 4.97 4.76 4.97 4.87 5.21 5.18 6.3  5.42 5.36 6.87 4.66 5.81 6.25]\n",
      " [5.51 4.98 4.33 5.12 4.37 5.37 5.59 5.56 4.51 4.48 4.49 4.85 4.47 4.69 5.14 5.46 4.66 6.67 5.41 5.43]\n",
      " [5.63 6.17 5.78 5.87 5.2  6.54 7.25 5.56 4.88 6.07 5.59 5.62 5.6  6.37 5.72 6.15 5.81 5.41 8.27 6.41]\n",
      " [5.99 5.77 5.77 5.79 4.93 6.2  6.43 5.54 4.89 5.28 5.32 5.21 5.3  6.33 6.11 5.77 6.25 5.43 6.41 7.98]]\n"
     ]
    }
   ],
   "source": [
    "Class = defClass(DS2[\"Train\"])\n",
    "W, Sigma = Parameters(Class)\n",
    "P = Probability(W, DS2[\"Test\"])\n",
    "Pred = (P<0.5)\n",
    "Accu = Accuracy(DS2[\"Test\"],Pred)\n",
    "\n",
    "print(f\"\\n The accuracy is: {Accu*100}%\\n\")\n",
    "printW_mu(W, Class, Sigma)"
   ]
  },
  {
   "cell_type": "markdown",
   "id": "73cb4408",
   "metadata": {},
   "source": [
    "### 5.2 kNN"
   ]
  },
  {
   "cell_type": "code",
   "execution_count": 10,
   "id": "5de1eb2c",
   "metadata": {
    "ExecuteTime": {
     "end_time": "2021-10-25T01:44:12.227038Z",
     "start_time": "2021-10-25T01:44:07.040170Z"
    }
   },
   "outputs": [
    {
     "name": "stderr",
     "output_type": "stream",
     "text": [
      "                                                                                                                       \r"
     ]
    },
    {
     "name": "stdout",
     "output_type": "stream",
     "text": [
      "kNN is ready!\n",
      "Randomly chosen result:\n",
      "       k :   26      69     263     396     497     547     618     730     735     846     848     931     973     1083     1086     1135     1274     1283     1303     1403   \n",
      "Accuracy : 52.50%  53.37%  49.88%  51.50%  52.00%  52.50%  51.00%  49.75%  49.88%  49.50%  50.25%  49.75%  52.62%  55.12%  54.12%  53.00%  54.12%  54.12%  53.75%  51.50% \n",
      "\n",
      "Best Accuracy in Validation Set is 55.88% w.r.t. 1241 Neighbors.\n"
     ]
    },
    {
     "name": "stderr",
     "output_type": "stream",
     "text": [
      "                                                                                                                       \r"
     ]
    },
    {
     "name": "stdout",
     "output_type": "stream",
     "text": [
      "kNN is ready!\n",
      "Accuracy for Test Set is 53.37% w.r.t 1241 Neighbors.\n"
     ]
    },
    {
     "data": {
      "image/png": "[encoded data removed]",
      "text/plain": [
       "<Figure size 432x288 with 1 Axes>"
      ]
     },
     "metadata": {},
     "output_type": "display_data"
    }
   ],
   "source": [
    "kNN = kNNfinder(DS2[\"Train\"], DS2[\"Valid\"])\n",
    "Accu = TrainK(DS2[\"Valid\"], kNN, range(1,nk))\n",
    "(K,AccuM)=max(Accu, key=lambda x:x[1])\n",
    "plotAccuracy(Accu)\n",
    "printResult(Accu, nk)\n",
    "\n",
    "kNN = kNNfinder(DS2[\"Train\"], DS2[\"Test\"])\n",
    "Accu = TrainK(DS2[\"Test\"], kNN, [K])\n",
    "(K,AccuM)=max(Accu, key=lambda x:x[1])\n",
    "print(f\"Accuracy for Test Set is {AccuM*100:.2f}% w.r.t {K} Neighbors.\")"
   ]
  },
  {
   "cell_type": "code",
   "execution_count": 17,
   "id": "fd2c9b8a",
   "metadata": {
    "ExecuteTime": {
     "end_time": "2021-10-25T01:51:56.822718Z",
     "start_time": "2021-10-25T01:51:56.685460Z"
    }
   },
   "outputs": [],
   "source": [
    "for k in [1,2]:\n",
    "    for i in [\"Train\", \"Test\", \"Valid\"]:\n",
    "        for j in [\"X\", \"Y\"]:\n",
    "            DS1[i][j]\n",
    "            np.savetxt(f'DS{k}_{i}_{j}.csv', DS1[i][j], delimiter=',', fmt='%+.3f')"
   ]
  }
 ],
 "metadata": {
  "kernelspec": {
   "display_name": "Python 3 (ipykernel)",
   "language": "python",
   "name": "python3"
  },
  "language_info": {
   "codemirror_mode": {
    "name": "ipython",
    "version": 3
   },
   "file_extension": ".py",
   "mimetype": "text/x-python",
   "name": "python",
   "nbconvert_exporter": "python",
   "pygments_lexer": "ipython3",
   "version": "3.8.10"
  },
  "varInspector": {
   "cols": {
    "lenName": 16,
    "lenType": 16,
    "lenVar": 40
   },
   "kernels_config": {
    "python": {
     "delete_cmd_postfix": "",
     "delete_cmd_prefix": "del ",
     "library": "var_list.py",
     "varRefreshCmd": "print(var_dic_list())"
    },
    "r": {
     "delete_cmd_postfix": ") ",
     "delete_cmd_prefix": "rm(",
     "library": "var_list.r",
     "varRefreshCmd": "cat(var_dic_list()) "
    }
   },
   "types_to_exclude": [
    "module",
    "function",
    "builtin_function_or_method",
    "instance",
    "_Feature"
   ],
   "window_display": false
  }
 },
 "nbformat": 4,
 "nbformat_minor": 5
}
